{
 "cells": [
  {
   "cell_type": "markdown",
   "metadata": {},
   "source": [
    "### Kaden Garletts\n",
    "### July 22 2025"
   ]
  },
  {
   "cell_type": "markdown",
   "metadata": {},
   "source": [
    "Part 3 of Project 1: Analysis and Plots"
   ]
  },
  {
   "cell_type": "markdown",
   "metadata": {},
   "source": [
    "\n",
    " perform data analysis for 4 questions:  1 assigned question from your instructor and 3 of your individual questions from Part 1 of the project. At least two of the questions should be answered using plots, but you should determine if a plot is the best way to answer more of your questions too.  (Usually it is.)\n",
    "\n",
    "In a Jupyter Notebook, document the findings that can help guide the recruiting or messaging efforts of the CCM IT Department. Documentation should include code, plots, and comments (using Markdown cells). Code output and plots should clearly show and describe your findings. \n",
    "\n",
    "Store your project files on your Project 1 Github repository.\n",
    "\n",
    "\n",
    "\n",
    "Submit:\n",
    "\n",
    "Jupyter Notebooks from all phases showing your explorations and conclusions:\n",
    "Markdown cells should be used to describe the problem and organize and explain your notebook and findings.\n",
    "Python code must be commented.\n",
    "Notebook Style Guidelines.pdf have been followed.\n",
    "README.md file which describes:\n",
    "the purpose of the project\n",
    "describe the contents of the repository.  (List the files and describe their contents.)\n",
    "Original source (uncleaned) and cleaned data CSV files\n",
    "Make sure your repository is public or you have made me a collaborator on your project.\n",
    "\n",
    "Questions:\n",
    "\n",
    "1. Is an indaviduals race or ethnicity significant in wether or not they received information about the CCM computing course? (using questions BC-BG)\n",
    "\n",
    "2.  For those who already took classes-- What classes are Women more likely to be interested or wish to pursue?\n",
    "\n",
    "3. How have the different age groups been impacted by decisions to attend ccm ie. which age groups are affected by which method, which are innefective?\n",
    "\n",
    "4. How well are family and friends impacting students choice to attend ccm (ie. of total responses, how many selected family related questions), which questions are the most effective? (all family/friends questions castegorized)."
   ]
  },
  {
   "cell_type": "code",
   "execution_count": 2,
   "metadata": {},
   "outputs": [],
   "source": [
    "import pandas as pd"
   ]
  },
  {
   "cell_type": "code",
   "execution_count": 3,
   "metadata": {},
   "outputs": [],
   "source": [
    "data = pd.read_csv('cleaned_data.csv')\n",
    "df = pd.DataFrame(data)"
   ]
  },
  {
   "cell_type": "code",
   "execution_count": null,
   "metadata": {},
   "outputs": [],
   "source": []
  }
 ],
 "metadata": {
  "kernelspec": {
   "display_name": "Python 3",
   "language": "python",
   "name": "python3"
  },
  "language_info": {
   "codemirror_mode": {
    "name": "ipython",
    "version": 3
   },
   "file_extension": ".py",
   "mimetype": "text/x-python",
   "name": "python",
   "nbconvert_exporter": "python",
   "pygments_lexer": "ipython3",
   "version": "3.9.1"
  }
 },
 "nbformat": 4,
 "nbformat_minor": 2
}
